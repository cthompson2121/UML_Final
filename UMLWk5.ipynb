{
  "nbformat": 4,
  "nbformat_minor": 0,
  "metadata": {
    "colab": {
      "provenance": []
    },
    "kernelspec": {
      "name": "python3",
      "display_name": "Python 3"
    },
    "language_info": {
      "name": "python"
    }
  },
  "cells": [
    {
      "cell_type": "code",
      "execution_count": null,
      "metadata": {
        "id": "KYgGVqert_dG"
      },
      "outputs": [],
      "source": [
        "import os\n",
        "import pandas as pd\n",
        "import numpy as np\n",
        "import matplotlib.pyplot as plt\n",
        "import seaborn as sns\n",
        "import re\n",
        "from sklearn.model_selection import GridSearchCV\n",
        "import itertools\n",
        "from sklearn.model_selection import train_test_split\n",
        "\n",
        "from sklearn.cluster import AgglomerativeClustering, KMeans\n",
        "from sklearn.metrics import accuracy_score, confusion_matrix\n",
        "import time"
      ]
    },
    {
      "cell_type": "code",
      "source": [
        "# code to connect to drive to access data\n",
        "from google.colab import drive\n",
        "drive.mount('/content/drive')\n",
        "\n",
        "#gpu_info = !nvidia-smi\n",
        "#gpu_info = '\\n'.join(gpu_info)\n",
        "#if gpu_info.find('failed') >= 0:\n",
        "#  print('Not connected to a GPU')\n",
        "#else:\n",
        "#  print(gpu_info)"
      ],
      "metadata": {
        "colab": {
          "base_uri": "https://localhost:8080/"
        },
        "id": "m3n67sZPuGDI",
        "outputId": "6c38938d-3dde-4986-f5da-1c9d9a4891e6"
      },
      "execution_count": null,
      "outputs": [
        {
          "output_type": "stream",
          "name": "stdout",
          "text": [
            "Drive already mounted at /content/drive; to attempt to forcibly remount, call drive.mount(\"/content/drive\", force_remount=True).\n"
          ]
        }
      ]
    },
    {
      "cell_type": "markdown",
      "source": [
        "##Data Loading\n",
        "This dataset contains a lot of variables, including a few variations of the target variable, above average low literacy levels in people with at least a bachelors degree. It is a modified version of a dataset from https://nces.ed.gov/surveys/piaac/skillsmap/, which ordinarily contains 43 variables. I moved the Level one literacy (reading difficulties) and Mathematicals difficulties  proportions for people with at least a bachelors degree to a seperate column so it could be matched with the data for entire county populations. I also created two bivariate variables, Cat_Lit1 and Cat_Num1, which are categorical variables that indicate whether the former variables are above the median. Combo_cat was supposed to be a variable that showed 0 if both were zero and the counties degree holders were below the median, 1 if only Cat_lit1 was 1, 2 if only Cat_Num1 was 1, and 3 if both were 1, but every county that had an above median rate of bachelor degree holders with literacy issues also had an above median rate of bachelor degree holders with numeracy issues, so all three variables essentially have a perfect correlation. Since these label variables are included in the main dataset, there is only one dataset to load."
      ],
      "metadata": {
        "id": "XLzlO37yQJiX"
      }
    },
    {
      "cell_type": "code",
      "source": [
        "\n",
        "Start_Data = pd.read_csv('drive/MyDrive//UML_FinDat.csv')\n",
        "\n",
        "\n"
      ],
      "metadata": {
        "id": "7cG0V25RwOrC"
      },
      "execution_count": null,
      "outputs": []
    },
    {
      "cell_type": "markdown",
      "source": [
        "EDA"
      ],
      "metadata": {
        "id": "1c-z6_A8QOJ5"
      }
    },
    {
      "cell_type": "code",
      "source": [
        "# number of observations and features\n",
        "print(Start_Data.shape)\n",
        "\n",
        "#StartData = StartData[:,:-1]\n",
        "#values for label data\n",
        "#print(label.shape)\n",
        "#display of part of dataframe\n",
        "Start_Data.info()\n",
        "Start_Data[1:5]"
      ],
      "metadata": {
        "id": "HZLQVkH_wewd",
        "colab": {
          "base_uri": "https://localhost:8080/",
          "height": 1000
        },
        "outputId": "7cfac4f6-69d1-4c07-9b64-75f51508916d"
      },
      "execution_count": null,
      "outputs": [
        {
          "output_type": "stream",
          "name": "stdout",
          "text": [
            "(3142, 49)\n",
            "<class 'pandas.core.frame.DataFrame'>\n",
            "RangeIndex: 3142 entries, 0 to 3141\n",
            "Data columns (total 49 columns):\n",
            " #   Column          Non-Null Count  Dtype  \n",
            "---  ------          --------------  -----  \n",
            " 0   FIPS_code       3142 non-null   int64  \n",
            " 1   State           3142 non-null   object \n",
            " 2   County          3142 non-null   object \n",
            " 3   grpName         3142 non-null   object \n",
            " 4   Lit_P1          3142 non-null   float64\n",
            " 5   Lit_P2          3142 non-null   float64\n",
            " 6   Lit_P3          3142 non-null   float64\n",
            " 7   Lit_A           3142 non-null   float64\n",
            " 8   Num_P1          3142 non-null   float64\n",
            " 9   Num_P2          3142 non-null   float64\n",
            " 10  Num_P3          3142 non-null   float64\n",
            " 11  Num_A           3142 non-null   float64\n",
            " 12  POP             3142 non-null   int64  \n",
            " 13  POP_Mature      3141 non-null   float64\n",
            " 14  Male            3142 non-null   float64\n",
            " 15  Female          3142 non-null   float64\n",
            " 16  White           3142 non-null   float64\n",
            " 17  Black           3142 non-null   float64\n",
            " 18  Hispanic        3142 non-null   float64\n",
            " 19  Asian           3142 non-null   float64\n",
            " 20  AIAN            3142 non-null   float64\n",
            " 21  NHPI            3142 non-null   float64\n",
            " 22  Other_race      3142 non-null   float64\n",
            " 23  Less_HS         3142 non-null   float64\n",
            " 24  HS              3142 non-null   float64\n",
            " 25  More_HS         3142 non-null   float64\n",
            " 26  Eng_not_well    3142 non-null   float64\n",
            " 27  FB_after2010    3142 non-null   float64\n",
            " 28  FB_1990_2009    3142 non-null   float64\n",
            " 29  FB_before1990   3142 non-null   float64\n",
            " 30  FB              3142 non-null   float64\n",
            " 31  Poverty_100     3142 non-null   float64\n",
            " 32  Poverty_150     3142 non-null   float64\n",
            " 33  SNAP            3142 non-null   float64\n",
            " 34  Employed        3142 non-null   float64\n",
            " 35  Unemployed      3142 non-null   float64\n",
            " 36  Not_in_labor    3142 non-null   float64\n",
            " 37  OCC_Manage      3142 non-null   float64\n",
            " 38  OCC_Service     3142 non-null   float64\n",
            " 39  OCC_Sales       3142 non-null   float64\n",
            " 40  OCC_Natural     3142 non-null   float64\n",
            " 41  OCC_Military    3142 non-null   float64\n",
            " 42  OCC_Prod        3142 non-null   float64\n",
            " 43  No_Insurance    3142 non-null   float64\n",
            " 44  Lit1_Bachelors  3142 non-null   float64\n",
            " 45  Num1_Bachelors  3142 non-null   float64\n",
            " 46  Cat_Lit1        3142 non-null   int64  \n",
            " 47  Cat_Num1        3142 non-null   int64  \n",
            " 48  Combo_cat       3142 non-null   int64  \n",
            "dtypes: float64(41), int64(5), object(3)\n",
            "memory usage: 1.2+ MB\n"
          ]
        },
        {
          "output_type": "execute_result",
          "data": {
            "text/plain": [
              "   FIPS_code    State          County grpName  Lit_P1  Lit_P2  Lit_P3  Lit_A  \\\n",
              "1       1003  Alabama  Baldwin County     all   0.161   0.347   0.493  270.3   \n",
              "2       1005  Alabama  Barbour County     all   0.394   0.404   0.201  235.9   \n",
              "3       1007  Alabama     Bibb County     all   0.269   0.454   0.277  248.1   \n",
              "4       1009  Alabama   Blount County     all   0.248   0.370   0.382  258.5   \n",
              "\n",
              "   Num_P1  Num_P2  ...  OCC_Sales  OCC_Natural  OCC_Military  OCC_Prod  \\\n",
              "1   0.261   0.353  ...      0.257        0.096           0.0     0.106   \n",
              "2   0.581   0.273  ...      0.225        0.114           0.0     0.239   \n",
              "3   0.417   0.402  ...      0.196        0.153           0.0     0.228   \n",
              "4   0.352   0.341  ...      0.233        0.158           0.0     0.193   \n",
              "\n",
              "   No_Insurance  Lit1_Bachelors  Num1_Bachelors  Cat_Lit1  Cat_Num1  Combo_cat  \n",
              "1         0.108           0.025           0.041         0         0          0  \n",
              "2         0.123           0.062           0.092         1         1          3  \n",
              "3         0.081           0.042           0.066         0         0          0  \n",
              "4         0.110           0.039           0.056         0         0          0  \n",
              "\n",
              "[4 rows x 49 columns]"
            ],
            "text/html": [
              "\n",
              "  <div id=\"df-e4988ecb-4de9-4e33-8de4-673e729b41f6\" class=\"colab-df-container\">\n",
              "    <div>\n",
              "<style scoped>\n",
              "    .dataframe tbody tr th:only-of-type {\n",
              "        vertical-align: middle;\n",
              "    }\n",
              "\n",
              "    .dataframe tbody tr th {\n",
              "        vertical-align: top;\n",
              "    }\n",
              "\n",
              "    .dataframe thead th {\n",
              "        text-align: right;\n",
              "    }\n",
              "</style>\n",
              "<table border=\"1\" class=\"dataframe\">\n",
              "  <thead>\n",
              "    <tr style=\"text-align: right;\">\n",
              "      <th></th>\n",
              "      <th>FIPS_code</th>\n",
              "      <th>State</th>\n",
              "      <th>County</th>\n",
              "      <th>grpName</th>\n",
              "      <th>Lit_P1</th>\n",
              "      <th>Lit_P2</th>\n",
              "      <th>Lit_P3</th>\n",
              "      <th>Lit_A</th>\n",
              "      <th>Num_P1</th>\n",
              "      <th>Num_P2</th>\n",
              "      <th>...</th>\n",
              "      <th>OCC_Sales</th>\n",
              "      <th>OCC_Natural</th>\n",
              "      <th>OCC_Military</th>\n",
              "      <th>OCC_Prod</th>\n",
              "      <th>No_Insurance</th>\n",
              "      <th>Lit1_Bachelors</th>\n",
              "      <th>Num1_Bachelors</th>\n",
              "      <th>Cat_Lit1</th>\n",
              "      <th>Cat_Num1</th>\n",
              "      <th>Combo_cat</th>\n",
              "    </tr>\n",
              "  </thead>\n",
              "  <tbody>\n",
              "    <tr>\n",
              "      <th>1</th>\n",
              "      <td>1003</td>\n",
              "      <td>Alabama</td>\n",
              "      <td>Baldwin County</td>\n",
              "      <td>all</td>\n",
              "      <td>0.161</td>\n",
              "      <td>0.347</td>\n",
              "      <td>0.493</td>\n",
              "      <td>270.3</td>\n",
              "      <td>0.261</td>\n",
              "      <td>0.353</td>\n",
              "      <td>...</td>\n",
              "      <td>0.257</td>\n",
              "      <td>0.096</td>\n",
              "      <td>0.0</td>\n",
              "      <td>0.106</td>\n",
              "      <td>0.108</td>\n",
              "      <td>0.025</td>\n",
              "      <td>0.041</td>\n",
              "      <td>0</td>\n",
              "      <td>0</td>\n",
              "      <td>0</td>\n",
              "    </tr>\n",
              "    <tr>\n",
              "      <th>2</th>\n",
              "      <td>1005</td>\n",
              "      <td>Alabama</td>\n",
              "      <td>Barbour County</td>\n",
              "      <td>all</td>\n",
              "      <td>0.394</td>\n",
              "      <td>0.404</td>\n",
              "      <td>0.201</td>\n",
              "      <td>235.9</td>\n",
              "      <td>0.581</td>\n",
              "      <td>0.273</td>\n",
              "      <td>...</td>\n",
              "      <td>0.225</td>\n",
              "      <td>0.114</td>\n",
              "      <td>0.0</td>\n",
              "      <td>0.239</td>\n",
              "      <td>0.123</td>\n",
              "      <td>0.062</td>\n",
              "      <td>0.092</td>\n",
              "      <td>1</td>\n",
              "      <td>1</td>\n",
              "      <td>3</td>\n",
              "    </tr>\n",
              "    <tr>\n",
              "      <th>3</th>\n",
              "      <td>1007</td>\n",
              "      <td>Alabama</td>\n",
              "      <td>Bibb County</td>\n",
              "      <td>all</td>\n",
              "      <td>0.269</td>\n",
              "      <td>0.454</td>\n",
              "      <td>0.277</td>\n",
              "      <td>248.1</td>\n",
              "      <td>0.417</td>\n",
              "      <td>0.402</td>\n",
              "      <td>...</td>\n",
              "      <td>0.196</td>\n",
              "      <td>0.153</td>\n",
              "      <td>0.0</td>\n",
              "      <td>0.228</td>\n",
              "      <td>0.081</td>\n",
              "      <td>0.042</td>\n",
              "      <td>0.066</td>\n",
              "      <td>0</td>\n",
              "      <td>0</td>\n",
              "      <td>0</td>\n",
              "    </tr>\n",
              "    <tr>\n",
              "      <th>4</th>\n",
              "      <td>1009</td>\n",
              "      <td>Alabama</td>\n",
              "      <td>Blount County</td>\n",
              "      <td>all</td>\n",
              "      <td>0.248</td>\n",
              "      <td>0.370</td>\n",
              "      <td>0.382</td>\n",
              "      <td>258.5</td>\n",
              "      <td>0.352</td>\n",
              "      <td>0.341</td>\n",
              "      <td>...</td>\n",
              "      <td>0.233</td>\n",
              "      <td>0.158</td>\n",
              "      <td>0.0</td>\n",
              "      <td>0.193</td>\n",
              "      <td>0.110</td>\n",
              "      <td>0.039</td>\n",
              "      <td>0.056</td>\n",
              "      <td>0</td>\n",
              "      <td>0</td>\n",
              "      <td>0</td>\n",
              "    </tr>\n",
              "  </tbody>\n",
              "</table>\n",
              "<p>4 rows × 49 columns</p>\n",
              "</div>\n",
              "    <div class=\"colab-df-buttons\">\n",
              "\n",
              "  <div class=\"colab-df-container\">\n",
              "    <button class=\"colab-df-convert\" onclick=\"convertToInteractive('df-e4988ecb-4de9-4e33-8de4-673e729b41f6')\"\n",
              "            title=\"Convert this dataframe to an interactive table.\"\n",
              "            style=\"display:none;\">\n",
              "\n",
              "  <svg xmlns=\"http://www.w3.org/2000/svg\" height=\"24px\" viewBox=\"0 -960 960 960\">\n",
              "    <path d=\"M120-120v-720h720v720H120Zm60-500h600v-160H180v160Zm220 220h160v-160H400v160Zm0 220h160v-160H400v160ZM180-400h160v-160H180v160Zm440 0h160v-160H620v160ZM180-180h160v-160H180v160Zm440 0h160v-160H620v160Z\"/>\n",
              "  </svg>\n",
              "    </button>\n",
              "\n",
              "  <style>\n",
              "    .colab-df-container {\n",
              "      display:flex;\n",
              "      gap: 12px;\n",
              "    }\n",
              "\n",
              "    .colab-df-convert {\n",
              "      background-color: #E8F0FE;\n",
              "      border: none;\n",
              "      border-radius: 50%;\n",
              "      cursor: pointer;\n",
              "      display: none;\n",
              "      fill: #1967D2;\n",
              "      height: 32px;\n",
              "      padding: 0 0 0 0;\n",
              "      width: 32px;\n",
              "    }\n",
              "\n",
              "    .colab-df-convert:hover {\n",
              "      background-color: #E2EBFA;\n",
              "      box-shadow: 0px 1px 2px rgba(60, 64, 67, 0.3), 0px 1px 3px 1px rgba(60, 64, 67, 0.15);\n",
              "      fill: #174EA6;\n",
              "    }\n",
              "\n",
              "    .colab-df-buttons div {\n",
              "      margin-bottom: 4px;\n",
              "    }\n",
              "\n",
              "    [theme=dark] .colab-df-convert {\n",
              "      background-color: #3B4455;\n",
              "      fill: #D2E3FC;\n",
              "    }\n",
              "\n",
              "    [theme=dark] .colab-df-convert:hover {\n",
              "      background-color: #434B5C;\n",
              "      box-shadow: 0px 1px 3px 1px rgba(0, 0, 0, 0.15);\n",
              "      filter: drop-shadow(0px 1px 2px rgba(0, 0, 0, 0.3));\n",
              "      fill: #FFFFFF;\n",
              "    }\n",
              "  </style>\n",
              "\n",
              "    <script>\n",
              "      const buttonEl =\n",
              "        document.querySelector('#df-e4988ecb-4de9-4e33-8de4-673e729b41f6 button.colab-df-convert');\n",
              "      buttonEl.style.display =\n",
              "        google.colab.kernel.accessAllowed ? 'block' : 'none';\n",
              "\n",
              "      async function convertToInteractive(key) {\n",
              "        const element = document.querySelector('#df-e4988ecb-4de9-4e33-8de4-673e729b41f6');\n",
              "        const dataTable =\n",
              "          await google.colab.kernel.invokeFunction('convertToInteractive',\n",
              "                                                    [key], {});\n",
              "        if (!dataTable) return;\n",
              "\n",
              "        const docLinkHtml = 'Like what you see? Visit the ' +\n",
              "          '<a target=\"_blank\" href=https://colab.research.google.com/notebooks/data_table.ipynb>data table notebook</a>'\n",
              "          + ' to learn more about interactive tables.';\n",
              "        element.innerHTML = '';\n",
              "        dataTable['output_type'] = 'display_data';\n",
              "        await google.colab.output.renderOutput(dataTable, element);\n",
              "        const docLink = document.createElement('div');\n",
              "        docLink.innerHTML = docLinkHtml;\n",
              "        element.appendChild(docLink);\n",
              "      }\n",
              "    </script>\n",
              "  </div>\n",
              "\n",
              "\n",
              "<div id=\"df-a003a851-716e-46b4-8c12-75146c2f3d1f\">\n",
              "  <button class=\"colab-df-quickchart\" onclick=\"quickchart('df-a003a851-716e-46b4-8c12-75146c2f3d1f')\"\n",
              "            title=\"Suggest charts\"\n",
              "            style=\"display:none;\">\n",
              "\n",
              "<svg xmlns=\"http://www.w3.org/2000/svg\" height=\"24px\"viewBox=\"0 0 24 24\"\n",
              "     width=\"24px\">\n",
              "    <g>\n",
              "        <path d=\"M19 3H5c-1.1 0-2 .9-2 2v14c0 1.1.9 2 2 2h14c1.1 0 2-.9 2-2V5c0-1.1-.9-2-2-2zM9 17H7v-7h2v7zm4 0h-2V7h2v10zm4 0h-2v-4h2v4z\"/>\n",
              "    </g>\n",
              "</svg>\n",
              "  </button>\n",
              "\n",
              "<style>\n",
              "  .colab-df-quickchart {\n",
              "      --bg-color: #E8F0FE;\n",
              "      --fill-color: #1967D2;\n",
              "      --hover-bg-color: #E2EBFA;\n",
              "      --hover-fill-color: #174EA6;\n",
              "      --disabled-fill-color: #AAA;\n",
              "      --disabled-bg-color: #DDD;\n",
              "  }\n",
              "\n",
              "  [theme=dark] .colab-df-quickchart {\n",
              "      --bg-color: #3B4455;\n",
              "      --fill-color: #D2E3FC;\n",
              "      --hover-bg-color: #434B5C;\n",
              "      --hover-fill-color: #FFFFFF;\n",
              "      --disabled-bg-color: #3B4455;\n",
              "      --disabled-fill-color: #666;\n",
              "  }\n",
              "\n",
              "  .colab-df-quickchart {\n",
              "    background-color: var(--bg-color);\n",
              "    border: none;\n",
              "    border-radius: 50%;\n",
              "    cursor: pointer;\n",
              "    display: none;\n",
              "    fill: var(--fill-color);\n",
              "    height: 32px;\n",
              "    padding: 0;\n",
              "    width: 32px;\n",
              "  }\n",
              "\n",
              "  .colab-df-quickchart:hover {\n",
              "    background-color: var(--hover-bg-color);\n",
              "    box-shadow: 0 1px 2px rgba(60, 64, 67, 0.3), 0 1px 3px 1px rgba(60, 64, 67, 0.15);\n",
              "    fill: var(--button-hover-fill-color);\n",
              "  }\n",
              "\n",
              "  .colab-df-quickchart-complete:disabled,\n",
              "  .colab-df-quickchart-complete:disabled:hover {\n",
              "    background-color: var(--disabled-bg-color);\n",
              "    fill: var(--disabled-fill-color);\n",
              "    box-shadow: none;\n",
              "  }\n",
              "\n",
              "  .colab-df-spinner {\n",
              "    border: 2px solid var(--fill-color);\n",
              "    border-color: transparent;\n",
              "    border-bottom-color: var(--fill-color);\n",
              "    animation:\n",
              "      spin 1s steps(1) infinite;\n",
              "  }\n",
              "\n",
              "  @keyframes spin {\n",
              "    0% {\n",
              "      border-color: transparent;\n",
              "      border-bottom-color: var(--fill-color);\n",
              "      border-left-color: var(--fill-color);\n",
              "    }\n",
              "    20% {\n",
              "      border-color: transparent;\n",
              "      border-left-color: var(--fill-color);\n",
              "      border-top-color: var(--fill-color);\n",
              "    }\n",
              "    30% {\n",
              "      border-color: transparent;\n",
              "      border-left-color: var(--fill-color);\n",
              "      border-top-color: var(--fill-color);\n",
              "      border-right-color: var(--fill-color);\n",
              "    }\n",
              "    40% {\n",
              "      border-color: transparent;\n",
              "      border-right-color: var(--fill-color);\n",
              "      border-top-color: var(--fill-color);\n",
              "    }\n",
              "    60% {\n",
              "      border-color: transparent;\n",
              "      border-right-color: var(--fill-color);\n",
              "    }\n",
              "    80% {\n",
              "      border-color: transparent;\n",
              "      border-right-color: var(--fill-color);\n",
              "      border-bottom-color: var(--fill-color);\n",
              "    }\n",
              "    90% {\n",
              "      border-color: transparent;\n",
              "      border-bottom-color: var(--fill-color);\n",
              "    }\n",
              "  }\n",
              "</style>\n",
              "\n",
              "  <script>\n",
              "    async function quickchart(key) {\n",
              "      const quickchartButtonEl =\n",
              "        document.querySelector('#' + key + ' button');\n",
              "      quickchartButtonEl.disabled = true;  // To prevent multiple clicks.\n",
              "      quickchartButtonEl.classList.add('colab-df-spinner');\n",
              "      try {\n",
              "        const charts = await google.colab.kernel.invokeFunction(\n",
              "            'suggestCharts', [key], {});\n",
              "      } catch (error) {\n",
              "        console.error('Error during call to suggestCharts:', error);\n",
              "      }\n",
              "      quickchartButtonEl.classList.remove('colab-df-spinner');\n",
              "      quickchartButtonEl.classList.add('colab-df-quickchart-complete');\n",
              "    }\n",
              "    (() => {\n",
              "      let quickchartButtonEl =\n",
              "        document.querySelector('#df-a003a851-716e-46b4-8c12-75146c2f3d1f button');\n",
              "      quickchartButtonEl.style.display =\n",
              "        google.colab.kernel.accessAllowed ? 'block' : 'none';\n",
              "    })();\n",
              "  </script>\n",
              "</div>\n",
              "    </div>\n",
              "  </div>\n"
            ],
            "application/vnd.google.colaboratory.intrinsic+json": {
              "type": "dataframe"
            }
          },
          "metadata": {},
          "execution_count": 273
        }
      ]
    },
    {
      "cell_type": "code",
      "source": [
        "#create label dataset and remove variables from main data\n",
        "#main label investigaton\n",
        "print(\"here\",Start_Data['Cat_Lit1'].quantile(0.75))\n",
        "main_label = Start_Data[['Cat_Lit1']].copy()\n",
        "main_label = main_label.rename(columns={'Cat_Lit1':'label'})\n",
        "main_label[\"label\"] = main_label[\"label\"].replace(\"lower\", 0)\n",
        "main_label[\"label\"] = main_label[\"label\"].replace(\"higher\", 1)\n",
        "# create a different label for higher reading difficulties per capita with a cutoff other than the median, 0.045.\n",
        "label_adj_L = Start_Data.assign(label = Start_Data['Lit1_Bachelors'] >= 0.08)\n",
        "label_adj_L = pd.DataFrame(label_adj_L.iloc[:,-1])\n",
        "# create a different label for higher mathematics difficulties per capita with a cutoff other than the median, 0.079.\n",
        "label_adj_N = Start_Data.assign(label = Start_Data['Lit1_Bachelors'] >= 0.079)\n",
        "label_adj_N = pd.DataFrame(label_adj_L.iloc[:,-1])\n",
        "\n",
        "#remove label data from initial dataset\n",
        "#Start_Data = Start_Data.iloc[:,:-5]\n",
        "#label_adj_N.info()\n",
        "\n",
        "main_label = main_label\n",
        "main_label.sum()"
      ],
      "metadata": {
        "id": "XY8gGdOVwpaI",
        "colab": {
          "base_uri": "https://localhost:8080/"
        },
        "outputId": "467453d2-dccd-4d09-8c18-999ac3b3643a"
      },
      "execution_count": null,
      "outputs": [
        {
          "output_type": "stream",
          "name": "stdout",
          "text": [
            "here 1.0\n"
          ]
        },
        {
          "output_type": "execute_result",
          "data": {
            "text/plain": [
              "label    1537\n",
              "dtype: int64"
            ]
          },
          "metadata": {},
          "execution_count": 274
        }
      ]
    },
    {
      "cell_type": "code",
      "source": [
        "#create 4 part categorical variable\n",
        "\n",
        "\n",
        "# Calculate percentiles using numpy.percentile\n",
        "percentiles = [25,5,75]\n",
        "percentile_values = np.percentile(Start_Data['Lit1_Bachelors'], percentiles)\n",
        "print(percentile_values)\n",
        "#change variable\n",
        "StartData['label_adj_L'] = pd.cut(x=Start_Data['Lit1_Bachelors'], bins=[0, 0.034, 0.045, 0.06, 1],\n",
        "                     labels=['Best', 'Better', 'Worse',\n",
        "                             'Worst'])\n",
        "main_label4 = StartData[['label_adj_L']].copy()\n",
        "main_label4 = main_label4.rename(columns={'label_adj_L':'label'})"
      ],
      "metadata": {
        "colab": {
          "base_uri": "https://localhost:8080/"
        },
        "id": "X0paVK0p1RGe",
        "outputId": "5e03f858-5975-41f3-db4e-4cdcb82f319b"
      },
      "execution_count": null,
      "outputs": [
        {
          "output_type": "stream",
          "name": "stdout",
          "text": [
            "[0.034 0.023 0.06 ]\n"
          ]
        }
      ]
    },
    {
      "cell_type": "markdown",
      "source": [
        "Data visualizations."
      ],
      "metadata": {
        "id": "wurAcdF4abgk"
      }
    },
    {
      "cell_type": "code",
      "source": [
        "# label data first\n",
        "#Histogram of proportion of bachelor holders with  reading defificency\n",
        "plt.figure(figsize=(10, 8))\n",
        "sns.histplot(Start_Data, x = 'Lit1_Bachelors')\n",
        "plt.title('At or Below Level 1 Reading with Bachelors')\n",
        "plt.show()\n",
        "#The histogram shows a strong positive skew"
      ],
      "metadata": {
        "colab": {
          "base_uri": "https://localhost:8080/",
          "height": 718
        },
        "id": "rdHNg7QV2VZP",
        "outputId": "45b93eaa-5cb2-4291-8d8e-a17fbd9eade4"
      },
      "execution_count": null,
      "outputs": [
        {
          "output_type": "display_data",
          "data": {
            "text/plain": [
              "<Figure size 1000x800 with 1 Axes>"
            ],
            "image/png": "[encoded data removed]"
          },
          "metadata": {}
        }
      ]
    },
    {
      "cell_type": "code",
      "source": [
        "#Histogram of proportion of bachelor holders with mathematics defificency\n",
        "plt.figure(figsize=(10, 8))\n",
        "sns.histplot(Start_Data, x = 'Num1_Bachelors')\n",
        "plt.title('At or Below Level 1 Mathematics with Bachelors')\n",
        "plt.show()\n",
        "#The histogram also shows a strong positive skew"
      ],
      "metadata": {
        "colab": {
          "base_uri": "https://localhost:8080/",
          "height": 718
        },
        "id": "3iozoxwwbchA",
        "outputId": "80482123-9a5a-4745-8c54-ecc48820db00"
      },
      "execution_count": null,
      "outputs": [
        {
          "output_type": "display_data",
          "data": {
            "text/plain": [
              "<Figure size 1000x800 with 1 Axes>"
            ],
            "image/png": "[encoded data removed]"
          },
          "metadata": {}
        }
      ]
    },
    {
      "cell_type": "code",
      "source": [
        "# much of the data is in proportions while some is in population totals\n",
        "# I separate out the proportion data for some descriptive statistics\n",
        "Data_prop1 = Start_Data.iloc[:,4:7].copy()\n",
        "Data_prop2 = Start_Data.iloc[:,8:11].copy()\n",
        "Data_prop3 = Start_Data.iloc[:,14:43].copy()\n",
        "Data_propf = pd.concat([Data_prop1, Data_prop2, Data_prop3], axis=1)\n",
        "Data_propf.info()\n"
      ],
      "metadata": {
        "id": "wAFPxPrXzC-v",
        "colab": {
          "base_uri": "https://localhost:8080/"
        },
        "outputId": "ba17cce9-fe10-4c4b-ce9f-21f1cf3db207"
      },
      "execution_count": null,
      "outputs": [
        {
          "output_type": "stream",
          "name": "stdout",
          "text": [
            "<class 'pandas.core.frame.DataFrame'>\n",
            "RangeIndex: 3142 entries, 0 to 3141\n",
            "Data columns (total 35 columns):\n",
            " #   Column         Non-Null Count  Dtype  \n",
            "---  ------         --------------  -----  \n",
            " 0   Lit_P1         3142 non-null   float64\n",
            " 1   Lit_P2         3142 non-null   float64\n",
            " 2   Lit_P3         3142 non-null   float64\n",
            " 3   Num_P1         3142 non-null   float64\n",
            " 4   Num_P2         3142 non-null   float64\n",
            " 5   Num_P3         3142 non-null   float64\n",
            " 6   Male           3142 non-null   float64\n",
            " 7   Female         3142 non-null   float64\n",
            " 8   White          3142 non-null   float64\n",
            " 9   Black          3142 non-null   float64\n",
            " 10  Hispanic       3142 non-null   float64\n",
            " 11  Asian          3142 non-null   float64\n",
            " 12  AIAN           3142 non-null   float64\n",
            " 13  NHPI           3142 non-null   float64\n",
            " 14  Other_race     3142 non-null   float64\n",
            " 15  Less_HS        3142 non-null   float64\n",
            " 16  HS             3142 non-null   float64\n",
            " 17  More_HS        3142 non-null   float64\n",
            " 18  Eng_not_well   3142 non-null   float64\n",
            " 19  FB_after2010   3142 non-null   float64\n",
            " 20  FB_1990_2009   3142 non-null   float64\n",
            " 21  FB_before1990  3142 non-null   float64\n",
            " 22  FB             3142 non-null   float64\n",
            " 23  Poverty_100    3142 non-null   float64\n",
            " 24  Poverty_150    3142 non-null   float64\n",
            " 25  SNAP           3142 non-null   float64\n",
            " 26  Employed       3142 non-null   float64\n",
            " 27  Unemployed     3142 non-null   float64\n",
            " 28  Not_in_labor   3142 non-null   float64\n",
            " 29  OCC_Manage     3142 non-null   float64\n",
            " 30  OCC_Service    3142 non-null   float64\n",
            " 31  OCC_Sales      3142 non-null   float64\n",
            " 32  OCC_Natural    3142 non-null   float64\n",
            " 33  OCC_Military   3142 non-null   float64\n",
            " 34  OCC_Prod       3142 non-null   float64\n",
            "dtypes: float64(35)\n",
            "memory usage: 859.3 KB\n"
          ]
        }
      ]
    },
    {
      "cell_type": "code",
      "source": [
        "#histograms of mean, max and min values for proportions\n",
        "a = Data_propf.mean(axis=0)\n",
        "plt.hist(a)\n",
        "plt.suptitle(\"Means\")\n",
        "plt.show()\n",
        "b = Data_propf.max(axis=0)\n",
        "plt.hist(b)\n",
        "plt.suptitle(\"Maximums\")\n",
        "plt.show()\n",
        "c = Data_propf.min(axis=0)\n",
        "plt.hist(c)\n",
        "plt.suptitle(\"Minimums\")\n",
        "plt.show()"
      ],
      "metadata": {
        "colab": {
          "base_uri": "https://localhost:8080/",
          "height": 1000
        },
        "id": "NJzYM8QkdzDc",
        "outputId": "557178e4-8b33-4790-975b-da7fecdb48b2"
      },
      "execution_count": null,
      "outputs": [
        {
          "output_type": "display_data",
          "data": {
            "text/plain": [
              "<Figure size 640x480 with 1 Axes>"
            ],
            "image/png": "[encoded data removed]"
          },
          "metadata": {}
        },
        {
          "output_type": "display_data",
          "data": {
            "text/plain": [
              "<Figure size 640x480 with 1 Axes>"
            ],
            "image/png": "[encoded data removed]"
          },
          "metadata": {}
        },
        {
          "output_type": "display_data",
          "data": {
            "text/plain": [
              "<Figure size 640x480 with 1 Axes>"
            ],
            "image/png": "[encoded data removed]"
          },
          "metadata": {}
        }
      ]
    },
    {
      "cell_type": "code",
      "source": [
        "#filter data to remove extraneous variables\n",
        "#remove label data from initial dataset and categorial location variables with nrow categories.\n",
        "Fin_Data = Start_Data.iloc[:,4:-5]\n",
        "Fin_Data.dropna()\n",
        "Fin_Data.info()\n"
      ],
      "metadata": {
        "colab": {
          "base_uri": "https://localhost:8080/"
        },
        "id": "7f7_C8ire5QJ",
        "outputId": "2cd8a0ba-3101-42a2-94aa-40fcf83870cb"
      },
      "execution_count": null,
      "outputs": [
        {
          "output_type": "stream",
          "name": "stdout",
          "text": [
            "<class 'pandas.core.frame.DataFrame'>\n",
            "RangeIndex: 3142 entries, 0 to 3141\n",
            "Data columns (total 40 columns):\n",
            " #   Column         Non-Null Count  Dtype  \n",
            "---  ------         --------------  -----  \n",
            " 0   Lit_P1         3142 non-null   float64\n",
            " 1   Lit_P2         3142 non-null   float64\n",
            " 2   Lit_P3         3142 non-null   float64\n",
            " 3   Lit_A          3142 non-null   float64\n",
            " 4   Num_P1         3142 non-null   float64\n",
            " 5   Num_P2         3142 non-null   float64\n",
            " 6   Num_P3         3142 non-null   float64\n",
            " 7   Num_A          3142 non-null   float64\n",
            " 8   POP            3142 non-null   int64  \n",
            " 9   POP_Mature     3141 non-null   float64\n",
            " 10  Male           3142 non-null   float64\n",
            " 11  Female         3142 non-null   float64\n",
            " 12  White          3142 non-null   float64\n",
            " 13  Black          3142 non-null   float64\n",
            " 14  Hispanic       3142 non-null   float64\n",
            " 15  Asian          3142 non-null   float64\n",
            " 16  AIAN           3142 non-null   float64\n",
            " 17  NHPI           3142 non-null   float64\n",
            " 18  Other_race     3142 non-null   float64\n",
            " 19  Less_HS        3142 non-null   float64\n",
            " 20  HS             3142 non-null   float64\n",
            " 21  More_HS        3142 non-null   float64\n",
            " 22  Eng_not_well   3142 non-null   float64\n",
            " 23  FB_after2010   3142 non-null   float64\n",
            " 24  FB_1990_2009   3142 non-null   float64\n",
            " 25  FB_before1990  3142 non-null   float64\n",
            " 26  FB             3142 non-null   float64\n",
            " 27  Poverty_100    3142 non-null   float64\n",
            " 28  Poverty_150    3142 non-null   float64\n",
            " 29  SNAP           3142 non-null   float64\n",
            " 30  Employed       3142 non-null   float64\n",
            " 31  Unemployed     3142 non-null   float64\n",
            " 32  Not_in_labor   3142 non-null   float64\n",
            " 33  OCC_Manage     3142 non-null   float64\n",
            " 34  OCC_Service    3142 non-null   float64\n",
            " 35  OCC_Sales      3142 non-null   float64\n",
            " 36  OCC_Natural    3142 non-null   float64\n",
            " 37  OCC_Military   3142 non-null   float64\n",
            " 38  OCC_Prod       3142 non-null   float64\n",
            " 39  No_Insurance   3142 non-null   float64\n",
            "dtypes: float64(39), int64(1)\n",
            "memory usage: 982.0 KB\n"
          ]
        }
      ]
    },
    {
      "cell_type": "code",
      "source": [
        "# proportion data heatmap\n",
        "Data_propf.corr()\n",
        "corr = Data_propf.corr()\n",
        "#size heatmap\n",
        "plt.figure(figsize=(16,16))\n",
        "# plot the heatmap\n",
        "sns.heatmap(corr)"
      ],
      "metadata": {
        "colab": {
          "base_uri": "https://localhost:8080/",
          "height": 1000
        },
        "id": "ORJvBia6GUWi",
        "outputId": "693fedbc-a386-4c1f-90a4-a30d56670669"
      },
      "execution_count": null,
      "outputs": [
        {
          "output_type": "execute_result",
          "data": {
            "text/plain": [
              "<Axes: >"
            ]
          },
          "metadata": {},
          "execution_count": 285
        },
        {
          "output_type": "display_data",
          "data": {
            "text/plain": [
              "<Figure size 1600x1600 with 2 Axes>"
            ],
            "image/png": "[encoded data removed]"
          },
          "metadata": {}
        }
      ]
    },
    {
      "cell_type": "markdown",
      "source": [
        "The heatmap shows that low literacy rates are correlated with being outside the labor force or unemployed, being in poverty, using SNAP, having less than a high school education, and inumeracy in the same county, which does not match the typical variables that correlated with More_HS, those who graduated high school and attended at least some post secondary education."
      ],
      "metadata": {
        "id": "OYaVghddbPc0"
      }
    },
    {
      "cell_type": "code",
      "source": [
        "# build a model using n_clusters\n",
        "# there isn't a specific number of clusters that should be imposed on the data but the earlier labels for dividing the data are a potential starting point.\n",
        "model=None\n",
        "# your code here\n",
        "cluster = AgglomerativeClustering(n_clusters=2)\n",
        "model2 = cluster.fit(Data_propf)\n",
        "model2\n",
        "print(model2.labels_)"
      ],
      "metadata": {
        "id": "kAYAD0ztwybJ",
        "colab": {
          "base_uri": "https://localhost:8080/"
        },
        "outputId": "56db5c3e-a7d3-4a56-df94-a8dcb416832d"
      },
      "execution_count": null,
      "outputs": [
        {
          "output_type": "stream",
          "name": "stdout",
          "text": [
            "[1 1 0 ... 1 1 1]\n"
          ]
        }
      ]
    },
    {
      "cell_type": "code",
      "source": [
        "def label_permute_compare2(ytdf,yp,n=2):\n",
        "    \"\"\"\n",
        "    ytdf: labels dataframe object\n",
        "    yp: clustering label prediction output\n",
        "    Returns permuted label order and accuracy.\n",
        "    Example output: (3, 4, 1, 2, 0), 0.74\n",
        "    \"\"\"\n",
        "# your code here\n",
        "    #make list of combinations\n",
        "    intial_list = [*range(0,n, 1)]\n",
        "    list_permutations = list(itertools.permutations(intial_list))\n",
        "    #set up intial values for iteration\n",
        "    most_acc = list_permutations[0]\n",
        "    acc = 0.0\n",
        "    newdf = []\n",
        "    #iterate accross all permutations\n",
        "    for i in list_permutations:\n",
        "        newdf = ytdf.copy()\n",
        "        newdf[\"label\"] = newdf[\"label\"].replace(\"lower\", i[0])\n",
        "        newdf[\"label\"] = newdf[\"label\"].replace(\"higher\", i[1])\n",
        "        score = accuracy_score(newdf[\"label\"], yp)\n",
        "        if score > acc:\n",
        "            most_acc = i\n",
        "            acc = score\n",
        "\n",
        "    return most_acc, acc"
      ],
      "metadata": {
        "id": "ndJ-xty41cCW"
      },
      "execution_count": null,
      "outputs": []
    },
    {
      "cell_type": "code",
      "source": [
        "labelorder2, acc2 = label_permute_compare2(main_label, model2.labels_)\n",
        "print(main_label.sum())\n",
        "print(labelorder2, acc2)"
      ],
      "metadata": {
        "colab": {
          "base_uri": "https://localhost:8080/"
        },
        "id": "bOji3p_diXca",
        "outputId": "353869b5-261f-49f7-f4ef-674537c65c6c"
      },
      "execution_count": null,
      "outputs": [
        {
          "output_type": "stream",
          "name": "stdout",
          "text": [
            "label    1537\n",
            "dtype: int64\n",
            "(0, 1) 0.1954169318905156\n"
          ]
        }
      ]
    },
    {
      "cell_type": "code",
      "source": [
        "# programmatically evaluate which linkage method and distance metric lead to the best performance\n",
        "# for two clusters\n",
        "distance_metrics = [\"euclidean\", \"l1\", \"l2\", \"manhattan\", \"cosine\" ]#,\"precomputed\"]\n",
        "linkage_methods = [\"complete\", \"average\", \"single\"]\n",
        "best_distance_metric = \"None\"\n",
        "best_linkage_method = \"None\"\n",
        "best_labels = (0, 0)\n",
        "highest_accuracy = 0.0\n",
        "best_model = []\n",
        "for i in distance_metrics:\n",
        "    for j in linkage_methods:\n",
        "        cluster_new2 = AgglomerativeClustering(n_clusters=2, metric = i, linkage=j)\n",
        "        model_new2 = cluster_new2.fit(Data_propf)\n",
        "        labelorder2, acc2 = label_permute_compare2(main_label, model_new2.labels_)\n",
        "        if acc2 > highest_accuracy:\n",
        "            best_distance_metric = i\n",
        "            best_linkage_method = j\n",
        "            best_labels = labelorder2\n",
        "            highest_accuracy = acc2\n",
        "            best_model = model_new2\n",
        "print(best_distance_metric,best_linkage_method)\n",
        "print(best_labels, highest_accuracy)\n",
        "print(\"Confusion Matrix\")\n",
        "newdf2 = main_label.copy()\n",
        "newdf2[\"label\"] = newdf2[\"label\"].replace(\"lower\", best_labels[0])\n",
        "newdf2[\"label\"] = newdf2[\"label\"].replace(\"higher\", best_labels[1])\n",
        "main_con_matrix = confusion_matrix(newdf2,best_model.labels_)\n"
      ],
      "metadata": {
        "colab": {
          "base_uri": "https://localhost:8080/"
        },
        "id": "-Q1omh9Dmkfz",
        "outputId": "8b6db3e0-6021-4ff0-bb36-ccb22d00a7e4"
      },
      "execution_count": null,
      "outputs": [
        {
          "output_type": "stream",
          "name": "stdout",
          "text": [
            "euclidean average\n",
            "(0, 1) 0.5264162953532782\n",
            "Confusion Matrix\n"
          ]
        }
      ]
    },
    {
      "cell_type": "markdown",
      "source": [
        "## Now 4 part categorical variable"
      ],
      "metadata": {
        "id": "YAyuLNvY3DOw"
      }
    },
    {
      "cell_type": "code",
      "source": [
        "# build a model using n_clusters=4 option\n",
        "model4=None\n",
        "# your code here\n",
        "cluster4 = AgglomerativeClustering(n_clusters=4)\n",
        "model4 = cluster4.fit(Data_propf)\n",
        "model4\n",
        "print(model4.labels_)"
      ],
      "metadata": {
        "colab": {
          "base_uri": "https://localhost:8080/"
        },
        "id": "MkMWqrb33GY3",
        "outputId": "e32798e6-dc5e-48b3-fac2-15f0db58d75c"
      },
      "execution_count": null,
      "outputs": [
        {
          "output_type": "stream",
          "name": "stdout",
          "text": [
            "[0 0 2 ... 0 0 0]\n"
          ]
        }
      ]
    },
    {
      "cell_type": "code",
      "source": [
        "def label_permute_compare4(ytdf,yp,n=4):\n",
        "    \"\"\"\n",
        "    ytdf: labels dataframe object\n",
        "    yp: clustering label prediction output\n",
        "    Returns permuted label order and accuracy.\n",
        "    Example output: (3, 4, 1, 2, 0), 0.74\n",
        "    \"\"\"\n",
        "# your code here\n",
        "    #make list of combinations\n",
        "    intial_list = [*range(0,n, 1)]\n",
        "    list_permutations = list(itertools.permutations(intial_list))\n",
        "    #set up intial values for iteration\n",
        "    most_acc = list_permutations[0]\n",
        "    acc = 0.0\n",
        "    newdf = []\n",
        "    #iterate accross all permutations\n",
        "    for i in list_permutations:\n",
        "        newdf = ytdf.copy()\n",
        "        newdf[\"label\"] = newdf[\"label\"].replace(\"Best\", i[0])\n",
        "        newdf[\"label\"] = newdf[\"label\"].replace(\"Better\", i[1])\n",
        "        newdf[\"label\"] = newdf[\"label\"].replace(\"Worse\", i[2])\n",
        "        newdf[\"label\"] = newdf[\"label\"].replace(\"Worst\", i[3])\n",
        "        score = accuracy_score(newdf[\"label\"], yp)\n",
        "        if score > acc:\n",
        "            most_acc = i\n",
        "            acc = score\n",
        "\n",
        "    return most_acc, acc\n",
        "        #print(ytdf)"
      ],
      "metadata": {
        "id": "zxp1ieWn3f45"
      },
      "execution_count": null,
      "outputs": []
    },
    {
      "cell_type": "code",
      "source": [
        "labelorder, acc = label_permute_compare4(main_label4, model4.labels_)\n",
        "print(labelorder, acc)"
      ],
      "metadata": {
        "colab": {
          "base_uri": "https://localhost:8080/"
        },
        "id": "-8bLWWAS3ySe",
        "outputId": "cef4c2e4-9ad7-421b-dbee-abec36a44247"
      },
      "execution_count": null,
      "outputs": [
        {
          "output_type": "stream",
          "name": "stdout",
          "text": [
            "(0, 1, 3, 2) 0.45544239338001274\n"
          ]
        }
      ]
    },
    {
      "cell_type": "code",
      "source": [
        "# programmatically evaluate which linkage method and distance metric lead to the best performance\n",
        "# your code here\n",
        "distance_metrics = [\"euclidean\", \"l1\", \"l2\", \"manhattan\", \"cosine\"]\n",
        "linkage_methods = [\"complete\", \"average\", \"single\"]\n",
        "best_distance_metric = \"None\"\n",
        "best_linkage_method = \"None\"\n",
        "best_labels = (0, 0, 0, 0)\n",
        "highest_accuracy = 0.0\n",
        "best_model = []\n",
        "for i in distance_metrics:\n",
        "    for j in linkage_methods:\n",
        "        cluster_new = AgglomerativeClustering(n_clusters=4, metric = i, linkage=j)\n",
        "        model_new4 = cluster_new.fit(Data_propf)\n",
        "        labelorder4, acc4 = label_permute_compare4(main_label4, model_new4.labels_)\n",
        "        if acc2 > highest_accuracy:\n",
        "            best_distance_metric = i\n",
        "            best_linkage_method = j\n",
        "            best_labels = labelorder4\n",
        "            highest_accuracy = acc4\n",
        "            best_model = model_new4\n",
        "print(best_distance_metric,best_linkage_method)\n",
        "print(best_labels, highest_accuracy)\n",
        "print(\"Confusion Matrix\")\n",
        "newdf2 = main_label4.copy()\n",
        "newdf2[\"label\"] = newdf2[\"label\"].replace(\"Best\", best_labels[0])\n",
        "newdf2[\"label\"] = newdf2[\"label\"].replace(\"Better\", best_labels[1])\n",
        "newdf2[\"label\"] = newdf2[\"label\"].replace(\"Worse\", best_labels[2])\n",
        "newdf2[\"label\"] = newdf2[\"label\"].replace(\"Worst\", best_labels[3])\n",
        "confusion_matrix(newdf2,best_model.labels_)"
      ],
      "metadata": {
        "colab": {
          "base_uri": "https://localhost:8080/"
        },
        "id": "xPA_TnS745ng",
        "outputId": "a90c0b78-7f92-4ef7-899c-f9422f0eb2ea"
      },
      "execution_count": null,
      "outputs": [
        {
          "output_type": "stream",
          "name": "stdout",
          "text": [
            "cosine single\n",
            "(0, 1, 2, 3) 0.26161680458306813\n",
            "Confusion Matrix\n"
          ]
        },
        {
          "output_type": "execute_result",
          "data": {
            "text/plain": [
              "array([[820,   0,   0,   0],\n",
              "       [784,   0,   1,   0],\n",
              "       [784,   0,   1,   0],\n",
              "       [750,   1,   0,   1]])"
            ]
          },
          "metadata": {},
          "execution_count": 220
        }
      ]
    },
    {
      "cell_type": "markdown",
      "source": [
        "## 3 Group Model, Tails and Center"
      ],
      "metadata": {
        "id": "IUsTcjdx9ypL"
      }
    },
    {
      "cell_type": "code",
      "source": [
        "#create 2 part categorical variable\n",
        "\n",
        "\n",
        "# Calculate percentiles using numpy.percentile\n",
        "percentiles = [50,80]\n",
        "percentile_values = np.percentile(Start_Data['Lit1_Bachelors'], percentiles)\n",
        "print(percentile_values)\n",
        "#change variable\n",
        "StartData['label_adj_L'] = pd.cut(x=Start_Data['Lit1_Bachelors'], bins=[0, 0.05, 0.085, 1],\n",
        "                     labels=['Tail1', 'Central', 'Tail2'])\n",
        "main_label_TC = StartData[['label_adj_L']].copy()\n",
        "main_label_TC = main_label_TC.rename(columns={'label_adj_L':'label'})\n",
        "\n",
        "model3=None\n",
        "# your code here\n",
        "cluster3 = AgglomerativeClustering(n_clusters=3)\n",
        "model3 = cluster3.fit(Data_propf)\n",
        "model3\n",
        "print(model3.labels_)\n",
        "def label_permute_compare3(ytdf,yp,n=3):\n",
        "    \"\"\"\n",
        "    ytdf: labels dataframe object\n",
        "    yp: clustering label prediction output\n",
        "    Returns permuted label order and accuracy.\n",
        "    Example output: (3, 4, 1, 2, 0), 0.74\n",
        "    \"\"\"\n",
        "# your code here\n",
        "    #make list of combinations\n",
        "    intial_list = [*range(0,n, 1)]\n",
        "    list_permutations = list(itertools.permutations(intial_list))\n",
        "    #set up intial values for iteration\n",
        "    most_acc = list_permutations[0]\n",
        "    acc = 0.0\n",
        "    newdf = []\n",
        "    #iterate accross all permutations\n",
        "    for i in list_permutations:\n",
        "        newdf = ytdf.copy()\n",
        "        newdf[\"label\"] = newdf[\"label\"].replace(\"Tail1\", i[0])\n",
        "        newdf[\"label\"] = newdf[\"label\"].replace(\"Central\", i[1])\n",
        "        newdf[\"label\"] = newdf[\"label\"].replace(\"Tail2\", i[2])\n",
        "        score = accuracy_score(newdf[\"label\"], yp)\n",
        "        if score > acc:\n",
        "            most_acc = i\n",
        "            acc = score\n",
        "\n",
        "    return most_acc, acc , newdf\n",
        "labelorder3, acc3, cdf = label_permute_compare3(main_label_TC, model3.labels_)\n",
        "print(main_label.sum())\n",
        "print(labelorder3, acc3)\n",
        "confusion_matrix(cdf,model3.labels_)"
      ],
      "metadata": {
        "colab": {
          "base_uri": "https://localhost:8080/"
        },
        "id": "AExu_7XH9yBL",
        "outputId": "9d64f3fa-832d-4fed-cda3-6a1825709ba7"
      },
      "execution_count": null,
      "outputs": [
        {
          "output_type": "stream",
          "name": "stdout",
          "text": [
            "[0.045 0.064]\n",
            "[1 1 2 ... 1 1 1]\n",
            "label    1537\n",
            "dtype: int64\n",
            "(1, 0, 2) 0.6467218332272437\n"
          ]
        },
        {
          "output_type": "execute_result",
          "data": {
            "text/plain": [
              "array([[ 113,    5,   67],\n",
              "       [ 472,  217,  339],\n",
              "       [ 311, 1493,  125]])"
            ]
          },
          "metadata": {},
          "execution_count": 236
        }
      ]
    },
    {
      "cell_type": "markdown",
      "source": [
        "##K-Means Clustering"
      ],
      "metadata": {
        "id": "RMf5QmRy7_GL"
      }
    },
    {
      "cell_type": "code",
      "source": [
        "\n",
        "# time kmeans to compare to hierarchical clustering\n",
        "\n",
        "ts_ac1 = time.time()\n",
        "cluster = AgglomerativeClustering(n_clusters=2)\n",
        "acmodel = cluster.fit(Data_propf)\n",
        "ts_ac2 = time.time()\n",
        "print(\"Agglomerative Clustering Time\")\n",
        "print(ts_ac2-ts_ac1)\n",
        "print(\"Agglomerative Clustering Model Accuracy\")\n",
        "print(acc)\n",
        "print(\"Agglomerative Clustering Confusion Matrix\")\n",
        "print(main_con_matrix)\n",
        "ts_km1 = time.time()\n",
        "kmean = KMeans(n_clusters=2)\n",
        "kmmodel = kmean.fit(Data_propf)\n",
        "ts_km2 = time.time()\n",
        "print(\"K-Means Clustering Time\")\n",
        "print(ts_km2-ts_km1)\n",
        "kmlabelorder, kmacc = label_permute_compare2(main_label, kmmodel.labels_)\n",
        "print(\"Kmeans Clustering Model Accuracy\")\n",
        "print(kmacc)\n",
        "newdf3 = main_label.copy()\n",
        "newdf3[\"label\"] = newdf3[\"label\"].replace(\"Better\", kmlabelorder[0])\n",
        "newdf3[\"label\"] = newdf3[\"label\"].replace(\"Worse\", kmlabelorder[1])\n",
        "print(\"Kmeans Clustering Confusion Matrix\")\n",
        "kmconf = confusion_matrix(newdf3,kmmodel.labels_)\n",
        "print(kmconf)"
      ],
      "metadata": {
        "colab": {
          "base_uri": "https://localhost:8080/"
        },
        "id": "1hd8xLQr8C2Q",
        "outputId": "c91911ee-a57d-4379-bcc1-3a3b6020013f"
      },
      "execution_count": null,
      "outputs": [
        {
          "output_type": "stream",
          "name": "stdout",
          "text": [
            "Agglomerative Clustering Time\n",
            "0.42246317863464355\n",
            "Agglomerative Clustering Model Accuracy\n",
            "0.45544239338001274\n",
            "Agglomerative Clustering Confusion Matrix\n",
            "[[1605    0]\n",
            " [1488   49]]\n"
          ]
        },
        {
          "output_type": "stream",
          "name": "stderr",
          "text": [
            "/usr/local/lib/python3.10/dist-packages/sklearn/cluster/_kmeans.py:870: FutureWarning: The default value of `n_init` will change from 10 to 'auto' in 1.4. Set the value of `n_init` explicitly to suppress the warning\n",
            "  warnings.warn(\n"
          ]
        },
        {
          "output_type": "stream",
          "name": "stdout",
          "text": [
            "K-Means Clustering Time\n",
            "0.7115132808685303\n",
            "Kmeans Clustering Model Accuracy\n",
            "0.8010821133036282\n",
            "Kmeans Clustering Confusion Matrix\n",
            "[[1531   74]\n",
            " [ 551  986]]\n"
          ]
        }
      ]
    },
    {
      "cell_type": "markdown",
      "source": [
        "## Conclusion\n",
        "None of the Hierachial methods were very accurate, about as good as chance and often worse. They were unable to outperform K-Means clustering in any way except expedience, and this was a small enough data set that it wasn't an important difference. K-Means Clustering did produce a model that was effective in predicting the data. Potetially variations with more clusters or fewer variables could produce a more reliable model."
      ],
      "metadata": {
        "id": "_DOypupJ2HG2"
      }
    },
    {
      "cell_type": "markdown",
      "source": [
        "#Sources\n",
        "U.S. PIAAC Skills Map. (n.d.). https://nces.ed.gov/surveys/piaac/skillsmap/\n",
        "\n",
        "GeeksforGeeks. (2023, January 10). Difference between K means and Hierarchical Clustering. GeeksforGeeks. https://www.geeksforgeeks.org/difference-between-k-means-and-hierarchical-clustering/"
      ],
      "metadata": {
        "id": "GWjbmnV-5Rqk"
      }
    }
  ]
}